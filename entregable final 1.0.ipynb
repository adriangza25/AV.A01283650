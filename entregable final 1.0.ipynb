{
 "cells": [
  {
   "cell_type": "markdown",
   "metadata": {},
   "source": [
    "# World Happiness Index"
   ]
  },
  {
   "cell_type": "markdown",
   "metadata": {},
   "source": [
    "En este proyecto se hace un análisis de la infromación recopilada en la base de datos del Índice Mundial de la Felicidad, en donde se despliega el puntaje de felicidad de 156 países en todo el mundo. A través de distintas variables establecidas en el reporte, se hará un análisis de cómo estas variables influyen en la felicidad percibida y cuál es la variable más significativa."
   ]
  },
  {
   "cell_type": "markdown",
   "metadata": {},
   "source": [
    "# 1.- Se importan y descargan las librerías necesarias."
   ]
  },
  {
   "cell_type": "code",
   "execution_count": null,
   "metadata": {},
   "outputs": [],
   "source": [
    "pip install statsmodels"
   ]
  },
  {
   "cell_type": "code",
   "execution_count": null,
   "metadata": {},
   "outputs": [],
   "source": [
    "import pandas as pd\n",
    "import numpy as np\n",
    "import seaborn as sns\n",
    "import matplotlib.pyplot as plt\n",
    "import matplotlib as mpl\n",
    "from statsmodels.formula.api import ols\n",
    "from sklearn import linear_model"
   ]
  },
  {
   "cell_type": "code",
   "execution_count": null,
   "metadata": {},
   "outputs": [],
   "source": [
    "mpl.style.use(['seaborn-whitegrid'])"
   ]
  },
  {
   "cell_type": "markdown",
   "metadata": {},
   "source": [
    "Se establece el estilo de gráficas que usaremos"
   ]
  },
  {
   "cell_type": "markdown",
   "metadata": {},
   "source": [
    "# 2.- Se importa la base de datos de nuestro Dataset"
   ]
  },
  {
   "cell_type": "code",
   "execution_count": null,
   "metadata": {},
   "outputs": [],
   "source": [
    "df = pd.read_excel('datasets/Happiness Index.xlsx',\n",
    "                  engine = 'openpyxl')\n",
    "df.head(2)"
   ]
  },
  {
   "cell_type": "markdown",
   "metadata": {},
   "source": [
    "La variable dependiente que se va a estudiar es la de 'Score', pues es el resultado final que deseamos estudiar. Las demás columnas son las variables que se pretende que expliquen y justifiquen el 'Score'."
   ]
  },
  {
   "cell_type": "markdown",
   "metadata": {},
   "source": [
    "# 3.- Se hace un histograma para observar la acumulación de datos generales."
   ]
  },
  {
   "cell_type": "code",
   "execution_count": null,
   "metadata": {},
   "outputs": [],
   "source": [
    "hist_score = sns.distplot(df.Score)\n",
    "plt.title('\"Normality\" of worldwide happiness level')\n",
    "plt.xlabel('Happiness score')"
   ]
  },
  {
   "cell_type": "markdown",
   "metadata": {},
   "source": [
    "Se observa que, de todo el conjunto de datos, la mayoría de los puntajes de felicidad están entre el 4 y el 7, demostrando un ligero sesgo a la derecha."
   ]
  },
  {
   "cell_type": "markdown",
   "metadata": {},
   "source": [
    "# 4.- Número y tipo de variables\n",
    "Ahora que sabemos nuestra variable dependiente, es momento de verificar cuáles y de qué tipo son las variables de nuestra base de datos."
   ]
  },
  {
   "cell_type": "code",
   "execution_count": null,
   "metadata": {},
   "outputs": [],
   "source": [
    "df.info()"
   ]
  },
  {
   "cell_type": "markdown",
   "metadata": {},
   "source": [
    "Una vez tengamos esta información, es posible verificar el tipo de cada variable. Todas las variables numéricas son de tipo Float, pues tienen valores decimales. La única variable entera es la del 'Overall Rank', la cual únicamente funciona como un tipo de índice. Existen 2 variables categóricas que nos pueden ayudar a segmentar la información y estudiarla por partes, como los continentes o los países."
   ]
  },
  {
   "cell_type": "markdown",
   "metadata": {},
   "source": [
    "# 5.- ¿Qué variable, por sí sola, tiene más correlación con la variable objetivo?"
   ]
  },
  {
   "cell_type": "code",
   "execution_count": null,
   "metadata": {},
   "outputs": [],
   "source": [
    "df['Country or region'] = df['Country or region'].astype('category').cat.codes\n",
    "df['Continent'] = df['Continent'].astype('category').cat.codes"
   ]
  },
  {
   "cell_type": "markdown",
   "metadata": {},
   "source": [
    "Como tenemos variables de tipo String, no se les puede insertar al cálculo del coeficiente de correlación, por lo que se les transforma en variables categóricas para que puedan ser consideradas en el cálculo."
   ]
  },
  {
   "cell_type": "code",
   "execution_count": null,
   "metadata": {},
   "outputs": [],
   "source": [
    "var = ['Score','Country or region', 'Continent',\n",
    "       'GDP per capita', 'Social support', 'Healthy life expectancy',\n",
    "       'Freedom to make life choices', 'Generosity',\n",
    "       'Perceptions of corruption']\n",
    "correlation = df[var].corr()\n",
    "correlation"
   ]
  },
  {
   "cell_type": "code",
   "execution_count": null,
   "metadata": {},
   "outputs": [],
   "source": [
    "sns.heatmap(correlation)"
   ]
  },
  {
   "cell_type": "markdown",
   "metadata": {},
   "source": [
    "Como se observa tanto en la tabla como en el mapa de calor, las variables con más correlación hacia el 'Score' de felicidad son las siguientes (de mayor a menor):\n",
    "GDP per capita, Healthy Life Expectancy, Social Support, Continent, Freedom to make life choices, Perceptions of corruption, Generosity, Country.\n",
    "\n",
    "Debido a que los índices de correlación superiores a 0.6 son considerados como fuertes, las variables a tomar en cuenta de aquí en adelante son las que sean superiores a ese valor, como lo son: GDP per capita, Healthy Life Expectancy, Social Support, Continent\n",
    "\n",
    "En consecuencia el modelo de regresión será:\n",
    "Score = b0 + (b1 x GDP per capita) + (b2 x Healthy Life Expectancy) + (b3 x Social Support) + (b4 x Continent)"
   ]
  },
  {
   "cell_type": "markdown",
   "metadata": {},
   "source": [
    "# 6.- ¿Cómo es la correlación entre las variables y 'Score'?\n",
    "\n",
    "Se realiza un diagrama de dispersión de cada variable vs Score para observar el comportamiento de la variable dependiente conforme al cambio de la variable independiente."
   ]
  },
  {
   "cell_type": "code",
   "execution_count": null,
   "metadata": {},
   "outputs": [],
   "source": [
    "sns.lmplot(x = 'GDP per capita', y = 'Score', data = df, line_kws={'color': 'blue'})\n",
    "plt.title('GDP per capita vs Score')\n",
    "\n",
    "sns.lmplot(x = 'Healthy life expectancy', y = 'Score', data = df, line_kws={'color': 'red'})\n",
    "plt.title('Health Life Expectancy vs Score')\n",
    "\n",
    "sns.lmplot(x = 'Social support', y = 'Score', data = df, line_kws={'color': 'green'})\n",
    "plt.title('Social Support vs Score')\n",
    "\n",
    "sns.lmplot(x = 'Continent', y = 'Score', data = df, line_kws={'color': 'purple'})\n",
    "plt.title('Continent vs Score')"
   ]
  },
  {
   "cell_type": "markdown",
   "metadata": {},
   "source": [
    "Como se puede observar en las 4 gráficas, el puntaje 'Score' depende en buena medida de todas las variables mencionadas. Existe una correlación fuerte positiva entre las variables independientes con la dependiente, por lo que sí se ve afectado el 'Score' dependiendo del valor de la variable independiente."
   ]
  },
  {
   "cell_type": "markdown",
   "metadata": {},
   "source": [
    "# 7.- ¿Existen valores atípicos?"
   ]
  },
  {
   "cell_type": "markdown",
   "metadata": {},
   "source": [
    "Se hará un Boxplot para cada variable y determinar si existen valores atípicos que puedan sesgar de manera incorrecta nuestros datos."
   ]
  },
  {
   "cell_type": "code",
   "execution_count": null,
   "metadata": {},
   "outputs": [],
   "source": [
    "sns.boxplot(y='Score', x='Continent', \n",
    "                 data=df, \n",
    "                 palette=\"colorblind\")"
   ]
  },
  {
   "cell_type": "code",
   "execution_count": null,
   "metadata": {},
   "outputs": [],
   "source": [
    "sns.boxplot(y=df['GDP per capita'])"
   ]
  },
  {
   "cell_type": "code",
   "execution_count": null,
   "metadata": {},
   "outputs": [],
   "source": [
    "sns.boxplot(y=df['Healthy life expectancy'])"
   ]
  },
  {
   "cell_type": "code",
   "execution_count": null,
   "metadata": {},
   "outputs": [],
   "source": [
    "sns.boxplot(y=df['Social support'])"
   ]
  },
  {
   "cell_type": "markdown",
   "metadata": {},
   "source": [
    "Se observaron muy pocos puntos atípicos en las 4 gráficas que se realizaron. Debido a su corta contidad, se pueden considerar como anomalías y desechar de la base de datos."
   ]
  },
  {
   "cell_type": "markdown",
   "metadata": {},
   "source": [
    "# 8.- ¿Cuáles son los resultados del modelo de regresión?"
   ]
  },
  {
   "cell_type": "code",
   "execution_count": null,
   "metadata": {},
   "outputs": [],
   "source": [
    "GDP = df['GDP per capita']\n",
    "HLE = df['Healthy life expectancy']\n",
    "SS = df['Social support']\n",
    "score = df['Score']\n",
    "cont = df['Continent']\n",
    "\n",
    "model = ols('Score ~ GDP + HLE + SS + Continent', data=df).fit()\n",
    "model.summary()"
   ]
  },
  {
   "cell_type": "markdown",
   "metadata": {},
   "source": [
    "Después de obtener un modelo de regresión completo, nos arrojó un R-cuadrado y un R-cuadrado ajustado de 0.742 y 0.735. Estos coeficientes de correlacion significan un alto nivel de correlación, lo que quiere decir que nuestro modelo tiene capacidad predictiva. Esto nos dice que el modelo es capaz de predecir aproximadamente un 73% de la variabilidad en nuestra variable de respuesta. Además, valores cercanos de R-cuadrado y R-cuadrado ajustado significan certidumbre en el resultado de éstos.\n",
    "\n",
    "Además, todas nuestras variables tienen un valor P inferior al 0.05 (alfa), lo que nos indica que todas son variables significativas. El valor de Durbin-Watson también nos indica que tenemos un modelo aceptable.\n",
    "\n",
    "Teniendo esto en cuenta, nuestro modelo de regresión es el siguiente:\n",
    "\n",
    "Score = 2.3874 + (0.8691 x GDP per capita) + (0.8522 * Healthy life expectancy) + (1.1604 x Social support) + (0.1226 x Continent)\n",
    "\n"
   ]
  },
  {
   "cell_type": "markdown",
   "metadata": {},
   "source": [
    "# 9.- Gráfica de dispersión a partir de modelo de regresión"
   ]
  },
  {
   "cell_type": "code",
   "execution_count": null,
   "metadata": {},
   "outputs": [],
   "source": [
    "lm = linear_model.LinearRegression()\n",
    "\n",
    "X = df[['GDP per capita', 'Healthy life expectancy', 'Social support', 'Continent']]\n",
    "Y = df['Score']\n",
    "\n",
    "regr = linear_model.LinearRegression()\n",
    "regr.fit(X, Y)\n",
    "\n"
   ]
  },
  {
   "cell_type": "code",
   "execution_count": null,
   "metadata": {},
   "outputs": [],
   "source": [
    "model.coef_"
   ]
  },
  {
   "cell_type": "code",
   "execution_count": null,
   "metadata": {},
   "outputs": [],
   "source": []
  }
 ],
 "metadata": {
  "kernelspec": {
   "display_name": "Python 3 (ipykernel)",
   "language": "python",
   "name": "python3"
  },
  "language_info": {
   "codemirror_mode": {
    "name": "ipython",
    "version": 3
   },
   "file_extension": ".py",
   "mimetype": "text/x-python",
   "name": "python",
   "nbconvert_exporter": "python",
   "pygments_lexer": "ipython3",
   "version": "3.8.12"
  }
 },
 "nbformat": 4,
 "nbformat_minor": 4
}
